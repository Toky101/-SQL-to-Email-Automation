{
 "cells": [
  {
   "cell_type": "code",
   "execution_count": null,
   "id": "98c4c173-5ca0-486f-820d-a2591c541321",
   "metadata": {},
   "outputs": [],
   "source": [
    "from email.mime.text import MIMEText\n",
    "from email.mime.application import MIMEApplication\n",
    "from email.mime.multipart import MIMEMultipart\n",
    "from email.mime.base import MIMEBase\n",
    "from email.message import EmailMessage\n",
    "from email import encoders\n",
    "import smtplib\n",
    "import os\n",
    "import json"
   ]
  },
  {
   "cell_type": "code",
   "execution_count": null,
   "id": "576fd361-e4b3-4770-b0b5-6870d86b793c",
   "metadata": {},
   "outputs": [],
   "source": [
    "import pyodbc\n",
    "import pandas as pd\n",
    "from pretty_html_table import build_table\n",
    "import io"
   ]
  },
  {
   "cell_type": "markdown",
   "id": "14a30d4f",
   "metadata": {},
   "source": [
    "content = open('config/gmail.json')\n",
    "config = json.load(content)\n",
    "email = config['local']\n",
    "password = config['pass']"
   ]
  },
  {
   "cell_type": "markdown",
   "id": "da85f733",
   "metadata": {},
   "source": [
    "sender = 'admin@localmail.com'\n",
    "receiver = 'hnawaz@localmail.com'\n",
    "subject = \"Top 5 Economies of the world\""
   ]
  },
  {
   "cell_type": "markdown",
   "id": "8f2f40f7",
   "metadata": {},
   "source": [
    "message = f\"\"\"From: From <{sender}>\n",
    "To: To <{receiver}>\n",
    "MIME-Version: 1.0\n",
    "Content-type: text/html\n",
    "Subject: {subject}\n",
    "\n",
    "This is an e-mail message to be sent in HTML format\n",
    "\n",
    "<b>This is HTML message.</b>\n",
    "<h1>This is headline.</h1>\n",
    "\"\"\""
   ]
  }
 ],
 "metadata": {
  "kernelspec": {
   "display_name": "Python 3 (ipykernel)",
   "language": "python",
   "name": "python3"
  },
  "language_info": {
   "codemirror_mode": {
    "name": "ipython",
    "version": 3
   },
   "file_extension": ".py",
   "mimetype": "text/x-python",
   "name": "python",
   "nbconvert_exporter": "python",
   "pygments_lexer": "ipython3",
   "version": "3.11.3"
  }
 },
 "nbformat": 4,
 "nbformat_minor": 5
}
